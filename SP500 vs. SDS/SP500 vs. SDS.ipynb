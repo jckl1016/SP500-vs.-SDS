{
 "cells": [
  {
   "cell_type": "markdown",
   "metadata": {},
   "source": [
    "### Linear Regression"
   ]
  },
  {
   "cell_type": "markdown",
   "metadata": {},
   "source": [
    "#### SP500 vs. SDS"
   ]
  },
  {
   "cell_type": "code",
   "execution_count": 1,
   "metadata": {},
   "outputs": [],
   "source": [
    "import pandas as pd\n",
    "import numpy as np\n",
    "import matplotlib.pyplot as plt\n",
    "%matplotlib inline"
   ]
  },
  {
   "cell_type": "code",
   "execution_count": 2,
   "metadata": {
    "scrolled": true
   },
   "outputs": [
    {
     "name": "stdout",
     "output_type": "stream",
     "text": [
      "<class 'pandas.core.frame.DataFrame'>\n",
      "RangeIndex: 251 entries, 0 to 250\n",
      "Data columns (total 7 columns):\n",
      "Date         251 non-null object\n",
      "Open         251 non-null float64\n",
      "High         251 non-null float64\n",
      "Low          251 non-null float64\n",
      "Close        251 non-null float64\n",
      "Adj Close    251 non-null float64\n",
      "Volume       251 non-null int64\n",
      "dtypes: float64(5), int64(1), object(1)\n",
      "memory usage: 13.9+ KB\n"
     ]
    }
   ],
   "source": [
    "df_sp500 = pd.read_csv(\"GSPC.csv\")\n",
    "df_sp500.info()"
   ]
  },
  {
   "cell_type": "code",
   "execution_count": 3,
   "metadata": {},
   "outputs": [
    {
     "name": "stdout",
     "output_type": "stream",
     "text": [
      "<class 'pandas.core.frame.DataFrame'>\n",
      "RangeIndex: 251 entries, 0 to 250\n",
      "Data columns (total 7 columns):\n",
      "Date         251 non-null object\n",
      "Open         251 non-null float64\n",
      "High         251 non-null float64\n",
      "Low          251 non-null float64\n",
      "Close        251 non-null float64\n",
      "Adj Close    251 non-null float64\n",
      "Volume       251 non-null int64\n",
      "dtypes: float64(5), int64(1), object(1)\n",
      "memory usage: 13.9+ KB\n"
     ]
    }
   ],
   "source": [
    "df_sds = pd.read_csv(\"SDS.csv\")\n",
    "df_sds.info()"
   ]
  },
  {
   "cell_type": "code",
   "execution_count": 4,
   "metadata": {
    "scrolled": true
   },
   "outputs": [
    {
     "data": {
      "text/html": [
       "<div>\n",
       "<style scoped>\n",
       "    .dataframe tbody tr th:only-of-type {\n",
       "        vertical-align: middle;\n",
       "    }\n",
       "\n",
       "    .dataframe tbody tr th {\n",
       "        vertical-align: top;\n",
       "    }\n",
       "\n",
       "    .dataframe thead th {\n",
       "        text-align: right;\n",
       "    }\n",
       "</style>\n",
       "<table border=\"1\" class=\"dataframe\">\n",
       "  <thead>\n",
       "    <tr style=\"text-align: right;\">\n",
       "      <th></th>\n",
       "      <th>Date</th>\n",
       "      <th>Open</th>\n",
       "      <th>High</th>\n",
       "      <th>Low</th>\n",
       "      <th>Close</th>\n",
       "      <th>Adj Close</th>\n",
       "      <th>Volume</th>\n",
       "    </tr>\n",
       "  </thead>\n",
       "  <tbody>\n",
       "    <tr>\n",
       "      <td>0</td>\n",
       "      <td>2019-01-02</td>\n",
       "      <td>2476.959961</td>\n",
       "      <td>2519.489990</td>\n",
       "      <td>2467.469971</td>\n",
       "      <td>2510.030029</td>\n",
       "      <td>2510.030029</td>\n",
       "      <td>3733160000</td>\n",
       "    </tr>\n",
       "    <tr>\n",
       "      <td>1</td>\n",
       "      <td>2019-01-03</td>\n",
       "      <td>2491.919922</td>\n",
       "      <td>2493.139893</td>\n",
       "      <td>2443.959961</td>\n",
       "      <td>2447.889893</td>\n",
       "      <td>2447.889893</td>\n",
       "      <td>3822860000</td>\n",
       "    </tr>\n",
       "    <tr>\n",
       "      <td>2</td>\n",
       "      <td>2019-01-04</td>\n",
       "      <td>2474.330078</td>\n",
       "      <td>2538.070068</td>\n",
       "      <td>2474.330078</td>\n",
       "      <td>2531.939941</td>\n",
       "      <td>2531.939941</td>\n",
       "      <td>4213410000</td>\n",
       "    </tr>\n",
       "    <tr>\n",
       "      <td>3</td>\n",
       "      <td>2019-01-07</td>\n",
       "      <td>2535.610107</td>\n",
       "      <td>2566.159912</td>\n",
       "      <td>2524.560059</td>\n",
       "      <td>2549.689941</td>\n",
       "      <td>2549.689941</td>\n",
       "      <td>4104710000</td>\n",
       "    </tr>\n",
       "    <tr>\n",
       "      <td>4</td>\n",
       "      <td>2019-01-08</td>\n",
       "      <td>2568.110107</td>\n",
       "      <td>2579.820068</td>\n",
       "      <td>2547.560059</td>\n",
       "      <td>2574.409912</td>\n",
       "      <td>2574.409912</td>\n",
       "      <td>4083030000</td>\n",
       "    </tr>\n",
       "  </tbody>\n",
       "</table>\n",
       "</div>"
      ],
      "text/plain": [
       "         Date         Open         High          Low        Close  \\\n",
       "0  2019-01-02  2476.959961  2519.489990  2467.469971  2510.030029   \n",
       "1  2019-01-03  2491.919922  2493.139893  2443.959961  2447.889893   \n",
       "2  2019-01-04  2474.330078  2538.070068  2474.330078  2531.939941   \n",
       "3  2019-01-07  2535.610107  2566.159912  2524.560059  2549.689941   \n",
       "4  2019-01-08  2568.110107  2579.820068  2547.560059  2574.409912   \n",
       "\n",
       "     Adj Close      Volume  \n",
       "0  2510.030029  3733160000  \n",
       "1  2447.889893  3822860000  \n",
       "2  2531.939941  4213410000  \n",
       "3  2549.689941  4104710000  \n",
       "4  2574.409912  4083030000  "
      ]
     },
     "execution_count": 4,
     "metadata": {},
     "output_type": "execute_result"
    }
   ],
   "source": [
    "df_sp500.head()"
   ]
  },
  {
   "cell_type": "code",
   "execution_count": 5,
   "metadata": {},
   "outputs": [
    {
     "data": {
      "text/plain": [
       "Index(['2019-01-02', '2019-01-03', '2019-01-04', '2019-01-07', '2019-01-08',\n",
       "       '2019-01-09', '2019-01-10', '2019-01-11', '2019-01-14', '2019-01-15',\n",
       "       ...\n",
       "       '2019-12-16', '2019-12-17', '2019-12-18', '2019-12-19', '2019-12-20',\n",
       "       '2019-12-23', '2019-12-24', '2019-12-26', '2019-12-27', '2019-12-30'],\n",
       "      dtype='object', name='Date', length=251)"
      ]
     },
     "execution_count": 5,
     "metadata": {},
     "output_type": "execute_result"
    }
   ],
   "source": [
    "df_sp500.set_index('Date', inplace = True) #set Date column as index\n",
    "df_sp500.index"
   ]
  },
  {
   "cell_type": "code",
   "execution_count": 6,
   "metadata": {},
   "outputs": [
    {
     "data": {
      "text/plain": [
       "DatetimeIndex(['2019-01-02', '2019-01-03', '2019-01-04', '2019-01-07',\n",
       "               '2019-01-08', '2019-01-09', '2019-01-10', '2019-01-11',\n",
       "               '2019-01-14', '2019-01-15',\n",
       "               ...\n",
       "               '2019-12-16', '2019-12-17', '2019-12-18', '2019-12-19',\n",
       "               '2019-12-20', '2019-12-23', '2019-12-24', '2019-12-26',\n",
       "               '2019-12-27', '2019-12-30'],\n",
       "              dtype='datetime64[ns]', name='Date', length=251, freq=None)"
      ]
     },
     "execution_count": 6,
     "metadata": {},
     "output_type": "execute_result"
    }
   ],
   "source": [
    "df_sp500.index = pd.to_datetime(df_sp500.index) #change to datetime\n",
    "df_sp500.index"
   ]
  },
  {
   "cell_type": "code",
   "execution_count": 7,
   "metadata": {},
   "outputs": [
    {
     "data": {
      "text/plain": [
       "Index(['2019-01-02', '2019-01-03', '2019-01-04', '2019-01-07', '2019-01-08',\n",
       "       '2019-01-09', '2019-01-10', '2019-01-11', '2019-01-14', '2019-01-15',\n",
       "       ...\n",
       "       '2019-12-16', '2019-12-17', '2019-12-18', '2019-12-19', '2019-12-20',\n",
       "       '2019-12-23', '2019-12-24', '2019-12-26', '2019-12-27', '2019-12-30'],\n",
       "      dtype='object', name='Date', length=251)"
      ]
     },
     "execution_count": 7,
     "metadata": {},
     "output_type": "execute_result"
    }
   ],
   "source": [
    "#do the same for sds\n",
    "df_sds.set_index('Date', inplace = True)\n",
    "df_sds.index"
   ]
  },
  {
   "cell_type": "code",
   "execution_count": 8,
   "metadata": {},
   "outputs": [
    {
     "data": {
      "text/plain": [
       "DatetimeIndex(['2019-01-02', '2019-01-03', '2019-01-04', '2019-01-07',\n",
       "               '2019-01-08', '2019-01-09', '2019-01-10', '2019-01-11',\n",
       "               '2019-01-14', '2019-01-15',\n",
       "               ...\n",
       "               '2019-12-16', '2019-12-17', '2019-12-18', '2019-12-19',\n",
       "               '2019-12-20', '2019-12-23', '2019-12-24', '2019-12-26',\n",
       "               '2019-12-27', '2019-12-30'],\n",
       "              dtype='datetime64[ns]', name='Date', length=251, freq=None)"
      ]
     },
     "execution_count": 8,
     "metadata": {},
     "output_type": "execute_result"
    }
   ],
   "source": [
    "df_sds.index = pd.to_datetime(df_sds.index)\n",
    "df_sds.index"
   ]
  },
  {
   "cell_type": "code",
   "execution_count": 9,
   "metadata": {
    "scrolled": true
   },
   "outputs": [
    {
     "data": {
      "text/html": [
       "<div>\n",
       "<style scoped>\n",
       "    .dataframe tbody tr th:only-of-type {\n",
       "        vertical-align: middle;\n",
       "    }\n",
       "\n",
       "    .dataframe tbody tr th {\n",
       "        vertical-align: top;\n",
       "    }\n",
       "\n",
       "    .dataframe thead th {\n",
       "        text-align: right;\n",
       "    }\n",
       "</style>\n",
       "<table border=\"1\" class=\"dataframe\">\n",
       "  <thead>\n",
       "    <tr style=\"text-align: right;\">\n",
       "      <th></th>\n",
       "      <th>Open</th>\n",
       "      <th>High</th>\n",
       "      <th>Low</th>\n",
       "      <th>Close</th>\n",
       "      <th>Adj Close</th>\n",
       "      <th>Volume</th>\n",
       "    </tr>\n",
       "    <tr>\n",
       "      <th>Date</th>\n",
       "      <th></th>\n",
       "      <th></th>\n",
       "      <th></th>\n",
       "      <th></th>\n",
       "      <th></th>\n",
       "      <th></th>\n",
       "    </tr>\n",
       "  </thead>\n",
       "  <tbody>\n",
       "    <tr>\n",
       "      <td>2019-01-02</td>\n",
       "      <td>2476.959961</td>\n",
       "      <td>2519.489990</td>\n",
       "      <td>2467.469971</td>\n",
       "      <td>2510.030029</td>\n",
       "      <td>2510.030029</td>\n",
       "      <td>3733160000</td>\n",
       "    </tr>\n",
       "    <tr>\n",
       "      <td>2019-01-03</td>\n",
       "      <td>2491.919922</td>\n",
       "      <td>2493.139893</td>\n",
       "      <td>2443.959961</td>\n",
       "      <td>2447.889893</td>\n",
       "      <td>2447.889893</td>\n",
       "      <td>3822860000</td>\n",
       "    </tr>\n",
       "    <tr>\n",
       "      <td>2019-01-04</td>\n",
       "      <td>2474.330078</td>\n",
       "      <td>2538.070068</td>\n",
       "      <td>2474.330078</td>\n",
       "      <td>2531.939941</td>\n",
       "      <td>2531.939941</td>\n",
       "      <td>4213410000</td>\n",
       "    </tr>\n",
       "    <tr>\n",
       "      <td>2019-01-07</td>\n",
       "      <td>2535.610107</td>\n",
       "      <td>2566.159912</td>\n",
       "      <td>2524.560059</td>\n",
       "      <td>2549.689941</td>\n",
       "      <td>2549.689941</td>\n",
       "      <td>4104710000</td>\n",
       "    </tr>\n",
       "    <tr>\n",
       "      <td>2019-01-08</td>\n",
       "      <td>2568.110107</td>\n",
       "      <td>2579.820068</td>\n",
       "      <td>2547.560059</td>\n",
       "      <td>2574.409912</td>\n",
       "      <td>2574.409912</td>\n",
       "      <td>4083030000</td>\n",
       "    </tr>\n",
       "  </tbody>\n",
       "</table>\n",
       "</div>"
      ],
      "text/plain": [
       "                   Open         High          Low        Close    Adj Close  \\\n",
       "Date                                                                          \n",
       "2019-01-02  2476.959961  2519.489990  2467.469971  2510.030029  2510.030029   \n",
       "2019-01-03  2491.919922  2493.139893  2443.959961  2447.889893  2447.889893   \n",
       "2019-01-04  2474.330078  2538.070068  2474.330078  2531.939941  2531.939941   \n",
       "2019-01-07  2535.610107  2566.159912  2524.560059  2549.689941  2549.689941   \n",
       "2019-01-08  2568.110107  2579.820068  2547.560059  2574.409912  2574.409912   \n",
       "\n",
       "                Volume  \n",
       "Date                    \n",
       "2019-01-02  3733160000  \n",
       "2019-01-03  3822860000  \n",
       "2019-01-04  4213410000  \n",
       "2019-01-07  4104710000  \n",
       "2019-01-08  4083030000  "
      ]
     },
     "execution_count": 9,
     "metadata": {},
     "output_type": "execute_result"
    }
   ],
   "source": [
    "df_sp500.head()"
   ]
  },
  {
   "cell_type": "code",
   "execution_count": 10,
   "metadata": {},
   "outputs": [
    {
     "data": {
      "text/html": [
       "<div>\n",
       "<style scoped>\n",
       "    .dataframe tbody tr th:only-of-type {\n",
       "        vertical-align: middle;\n",
       "    }\n",
       "\n",
       "    .dataframe tbody tr th {\n",
       "        vertical-align: top;\n",
       "    }\n",
       "\n",
       "    .dataframe thead th {\n",
       "        text-align: right;\n",
       "    }\n",
       "</style>\n",
       "<table border=\"1\" class=\"dataframe\">\n",
       "  <thead>\n",
       "    <tr style=\"text-align: right;\">\n",
       "      <th></th>\n",
       "      <th>Open</th>\n",
       "      <th>High</th>\n",
       "      <th>Low</th>\n",
       "      <th>Close</th>\n",
       "      <th>Adj Close</th>\n",
       "      <th>Volume</th>\n",
       "    </tr>\n",
       "    <tr>\n",
       "      <th>Date</th>\n",
       "      <th></th>\n",
       "      <th></th>\n",
       "      <th></th>\n",
       "      <th></th>\n",
       "      <th></th>\n",
       "      <th></th>\n",
       "    </tr>\n",
       "  </thead>\n",
       "  <tbody>\n",
       "    <tr>\n",
       "      <td>2019-01-02</td>\n",
       "      <td>44.330002</td>\n",
       "      <td>44.349998</td>\n",
       "      <td>42.540001</td>\n",
       "      <td>42.880001</td>\n",
       "      <td>42.151756</td>\n",
       "      <td>7162500</td>\n",
       "    </tr>\n",
       "    <tr>\n",
       "      <td>2019-01-03</td>\n",
       "      <td>43.549999</td>\n",
       "      <td>45.150002</td>\n",
       "      <td>43.480000</td>\n",
       "      <td>44.990002</td>\n",
       "      <td>44.225925</td>\n",
       "      <td>10146600</td>\n",
       "    </tr>\n",
       "    <tr>\n",
       "      <td>2019-01-04</td>\n",
       "      <td>43.730000</td>\n",
       "      <td>43.880001</td>\n",
       "      <td>41.700001</td>\n",
       "      <td>41.939999</td>\n",
       "      <td>41.227718</td>\n",
       "      <td>8950700</td>\n",
       "    </tr>\n",
       "    <tr>\n",
       "      <td>2019-01-07</td>\n",
       "      <td>41.840000</td>\n",
       "      <td>42.180000</td>\n",
       "      <td>40.779999</td>\n",
       "      <td>41.330002</td>\n",
       "      <td>40.628078</td>\n",
       "      <td>5029400</td>\n",
       "    </tr>\n",
       "    <tr>\n",
       "      <td>2019-01-08</td>\n",
       "      <td>40.500000</td>\n",
       "      <td>41.419998</td>\n",
       "      <td>40.349998</td>\n",
       "      <td>40.549999</td>\n",
       "      <td>39.861328</td>\n",
       "      <td>5112500</td>\n",
       "    </tr>\n",
       "  </tbody>\n",
       "</table>\n",
       "</div>"
      ],
      "text/plain": [
       "                 Open       High        Low      Close  Adj Close    Volume\n",
       "Date                                                                       \n",
       "2019-01-02  44.330002  44.349998  42.540001  42.880001  42.151756   7162500\n",
       "2019-01-03  43.549999  45.150002  43.480000  44.990002  44.225925  10146600\n",
       "2019-01-04  43.730000  43.880001  41.700001  41.939999  41.227718   8950700\n",
       "2019-01-07  41.840000  42.180000  40.779999  41.330002  40.628078   5029400\n",
       "2019-01-08  40.500000  41.419998  40.349998  40.549999  39.861328   5112500"
      ]
     },
     "execution_count": 10,
     "metadata": {},
     "output_type": "execute_result"
    }
   ],
   "source": [
    "df_sds.head()"
   ]
  },
  {
   "cell_type": "code",
   "execution_count": 11,
   "metadata": {},
   "outputs": [
    {
     "data": {
      "text/html": [
       "<div>\n",
       "<style scoped>\n",
       "    .dataframe tbody tr th:only-of-type {\n",
       "        vertical-align: middle;\n",
       "    }\n",
       "\n",
       "    .dataframe tbody tr th {\n",
       "        vertical-align: top;\n",
       "    }\n",
       "\n",
       "    .dataframe thead th {\n",
       "        text-align: right;\n",
       "    }\n",
       "</style>\n",
       "<table border=\"1\" class=\"dataframe\">\n",
       "  <thead>\n",
       "    <tr style=\"text-align: right;\">\n",
       "      <th></th>\n",
       "      <th>Open</th>\n",
       "      <th>High</th>\n",
       "      <th>Low</th>\n",
       "      <th>Close</th>\n",
       "      <th>Adj Close</th>\n",
       "      <th>Volume</th>\n",
       "      <th>pct_chg</th>\n",
       "    </tr>\n",
       "    <tr>\n",
       "      <th>Date</th>\n",
       "      <th></th>\n",
       "      <th></th>\n",
       "      <th></th>\n",
       "      <th></th>\n",
       "      <th></th>\n",
       "      <th></th>\n",
       "      <th></th>\n",
       "    </tr>\n",
       "  </thead>\n",
       "  <tbody>\n",
       "    <tr>\n",
       "      <td>2019-01-02</td>\n",
       "      <td>2476.959961</td>\n",
       "      <td>2519.489990</td>\n",
       "      <td>2467.469971</td>\n",
       "      <td>2510.030029</td>\n",
       "      <td>2510.030029</td>\n",
       "      <td>3733160000</td>\n",
       "      <td>NaN</td>\n",
       "    </tr>\n",
       "    <tr>\n",
       "      <td>2019-01-03</td>\n",
       "      <td>2491.919922</td>\n",
       "      <td>2493.139893</td>\n",
       "      <td>2443.959961</td>\n",
       "      <td>2447.889893</td>\n",
       "      <td>2447.889893</td>\n",
       "      <td>3822860000</td>\n",
       "      <td>-0.024757</td>\n",
       "    </tr>\n",
       "    <tr>\n",
       "      <td>2019-01-04</td>\n",
       "      <td>2474.330078</td>\n",
       "      <td>2538.070068</td>\n",
       "      <td>2474.330078</td>\n",
       "      <td>2531.939941</td>\n",
       "      <td>2531.939941</td>\n",
       "      <td>4213410000</td>\n",
       "      <td>0.034336</td>\n",
       "    </tr>\n",
       "    <tr>\n",
       "      <td>2019-01-07</td>\n",
       "      <td>2535.610107</td>\n",
       "      <td>2566.159912</td>\n",
       "      <td>2524.560059</td>\n",
       "      <td>2549.689941</td>\n",
       "      <td>2549.689941</td>\n",
       "      <td>4104710000</td>\n",
       "      <td>0.007010</td>\n",
       "    </tr>\n",
       "    <tr>\n",
       "      <td>2019-01-08</td>\n",
       "      <td>2568.110107</td>\n",
       "      <td>2579.820068</td>\n",
       "      <td>2547.560059</td>\n",
       "      <td>2574.409912</td>\n",
       "      <td>2574.409912</td>\n",
       "      <td>4083030000</td>\n",
       "      <td>0.009695</td>\n",
       "    </tr>\n",
       "    <tr>\n",
       "      <td>2019-01-09</td>\n",
       "      <td>2580.000000</td>\n",
       "      <td>2595.320068</td>\n",
       "      <td>2568.889893</td>\n",
       "      <td>2584.959961</td>\n",
       "      <td>2584.959961</td>\n",
       "      <td>4052480000</td>\n",
       "      <td>0.004098</td>\n",
       "    </tr>\n",
       "    <tr>\n",
       "      <td>2019-01-10</td>\n",
       "      <td>2573.510010</td>\n",
       "      <td>2597.820068</td>\n",
       "      <td>2562.020020</td>\n",
       "      <td>2596.639893</td>\n",
       "      <td>2596.639893</td>\n",
       "      <td>3704500000</td>\n",
       "      <td>0.004518</td>\n",
       "    </tr>\n",
       "    <tr>\n",
       "      <td>2019-01-11</td>\n",
       "      <td>2588.110107</td>\n",
       "      <td>2596.270020</td>\n",
       "      <td>2577.399902</td>\n",
       "      <td>2596.260010</td>\n",
       "      <td>2596.260010</td>\n",
       "      <td>3434490000</td>\n",
       "      <td>-0.000146</td>\n",
       "    </tr>\n",
       "    <tr>\n",
       "      <td>2019-01-14</td>\n",
       "      <td>2580.310059</td>\n",
       "      <td>2589.320068</td>\n",
       "      <td>2570.409912</td>\n",
       "      <td>2582.610107</td>\n",
       "      <td>2582.610107</td>\n",
       "      <td>3664450000</td>\n",
       "      <td>-0.005258</td>\n",
       "    </tr>\n",
       "    <tr>\n",
       "      <td>2019-01-15</td>\n",
       "      <td>2585.100098</td>\n",
       "      <td>2613.080078</td>\n",
       "      <td>2585.100098</td>\n",
       "      <td>2610.300049</td>\n",
       "      <td>2610.300049</td>\n",
       "      <td>3572330000</td>\n",
       "      <td>0.010722</td>\n",
       "    </tr>\n",
       "  </tbody>\n",
       "</table>\n",
       "</div>"
      ],
      "text/plain": [
       "                   Open         High          Low        Close    Adj Close  \\\n",
       "Date                                                                          \n",
       "2019-01-02  2476.959961  2519.489990  2467.469971  2510.030029  2510.030029   \n",
       "2019-01-03  2491.919922  2493.139893  2443.959961  2447.889893  2447.889893   \n",
       "2019-01-04  2474.330078  2538.070068  2474.330078  2531.939941  2531.939941   \n",
       "2019-01-07  2535.610107  2566.159912  2524.560059  2549.689941  2549.689941   \n",
       "2019-01-08  2568.110107  2579.820068  2547.560059  2574.409912  2574.409912   \n",
       "2019-01-09  2580.000000  2595.320068  2568.889893  2584.959961  2584.959961   \n",
       "2019-01-10  2573.510010  2597.820068  2562.020020  2596.639893  2596.639893   \n",
       "2019-01-11  2588.110107  2596.270020  2577.399902  2596.260010  2596.260010   \n",
       "2019-01-14  2580.310059  2589.320068  2570.409912  2582.610107  2582.610107   \n",
       "2019-01-15  2585.100098  2613.080078  2585.100098  2610.300049  2610.300049   \n",
       "\n",
       "                Volume   pct_chg  \n",
       "Date                              \n",
       "2019-01-02  3733160000       NaN  \n",
       "2019-01-03  3822860000 -0.024757  \n",
       "2019-01-04  4213410000  0.034336  \n",
       "2019-01-07  4104710000  0.007010  \n",
       "2019-01-08  4083030000  0.009695  \n",
       "2019-01-09  4052480000  0.004098  \n",
       "2019-01-10  3704500000  0.004518  \n",
       "2019-01-11  3434490000 -0.000146  \n",
       "2019-01-14  3664450000 -0.005258  \n",
       "2019-01-15  3572330000  0.010722  "
      ]
     },
     "execution_count": 11,
     "metadata": {},
     "output_type": "execute_result"
    }
   ],
   "source": [
    "df_sp500['pct_chg'] = df_sp500['Adj Close'].pct_change()\n",
    "df_sp500.head(10)"
   ]
  },
  {
   "cell_type": "code",
   "execution_count": 12,
   "metadata": {},
   "outputs": [
    {
     "data": {
      "text/html": [
       "<div>\n",
       "<style scoped>\n",
       "    .dataframe tbody tr th:only-of-type {\n",
       "        vertical-align: middle;\n",
       "    }\n",
       "\n",
       "    .dataframe tbody tr th {\n",
       "        vertical-align: top;\n",
       "    }\n",
       "\n",
       "    .dataframe thead th {\n",
       "        text-align: right;\n",
       "    }\n",
       "</style>\n",
       "<table border=\"1\" class=\"dataframe\">\n",
       "  <thead>\n",
       "    <tr style=\"text-align: right;\">\n",
       "      <th></th>\n",
       "      <th>Open</th>\n",
       "      <th>High</th>\n",
       "      <th>Low</th>\n",
       "      <th>Close</th>\n",
       "      <th>Adj Close</th>\n",
       "      <th>Volume</th>\n",
       "      <th>pct_chg</th>\n",
       "    </tr>\n",
       "    <tr>\n",
       "      <th>Date</th>\n",
       "      <th></th>\n",
       "      <th></th>\n",
       "      <th></th>\n",
       "      <th></th>\n",
       "      <th></th>\n",
       "      <th></th>\n",
       "      <th></th>\n",
       "    </tr>\n",
       "  </thead>\n",
       "  <tbody>\n",
       "    <tr>\n",
       "      <td>2019-01-02</td>\n",
       "      <td>44.330002</td>\n",
       "      <td>44.349998</td>\n",
       "      <td>42.540001</td>\n",
       "      <td>42.880001</td>\n",
       "      <td>42.151756</td>\n",
       "      <td>7162500</td>\n",
       "      <td>NaN</td>\n",
       "    </tr>\n",
       "    <tr>\n",
       "      <td>2019-01-03</td>\n",
       "      <td>43.549999</td>\n",
       "      <td>45.150002</td>\n",
       "      <td>43.480000</td>\n",
       "      <td>44.990002</td>\n",
       "      <td>44.225925</td>\n",
       "      <td>10146600</td>\n",
       "      <td>0.049207</td>\n",
       "    </tr>\n",
       "    <tr>\n",
       "      <td>2019-01-04</td>\n",
       "      <td>43.730000</td>\n",
       "      <td>43.880001</td>\n",
       "      <td>41.700001</td>\n",
       "      <td>41.939999</td>\n",
       "      <td>41.227718</td>\n",
       "      <td>8950700</td>\n",
       "      <td>-0.067793</td>\n",
       "    </tr>\n",
       "    <tr>\n",
       "      <td>2019-01-07</td>\n",
       "      <td>41.840000</td>\n",
       "      <td>42.180000</td>\n",
       "      <td>40.779999</td>\n",
       "      <td>41.330002</td>\n",
       "      <td>40.628078</td>\n",
       "      <td>5029400</td>\n",
       "      <td>-0.014545</td>\n",
       "    </tr>\n",
       "    <tr>\n",
       "      <td>2019-01-08</td>\n",
       "      <td>40.500000</td>\n",
       "      <td>41.419998</td>\n",
       "      <td>40.349998</td>\n",
       "      <td>40.549999</td>\n",
       "      <td>39.861328</td>\n",
       "      <td>5112500</td>\n",
       "      <td>-0.018872</td>\n",
       "    </tr>\n",
       "    <tr>\n",
       "      <td>2019-01-09</td>\n",
       "      <td>40.270000</td>\n",
       "      <td>40.720001</td>\n",
       "      <td>39.860001</td>\n",
       "      <td>40.169998</td>\n",
       "      <td>39.487774</td>\n",
       "      <td>5726600</td>\n",
       "      <td>-0.009371</td>\n",
       "    </tr>\n",
       "    <tr>\n",
       "      <td>2019-01-10</td>\n",
       "      <td>40.700001</td>\n",
       "      <td>40.930000</td>\n",
       "      <td>39.810001</td>\n",
       "      <td>39.869999</td>\n",
       "      <td>39.192879</td>\n",
       "      <td>8460700</td>\n",
       "      <td>-0.007468</td>\n",
       "    </tr>\n",
       "    <tr>\n",
       "      <td>2019-01-11</td>\n",
       "      <td>40.259998</td>\n",
       "      <td>40.470001</td>\n",
       "      <td>39.869999</td>\n",
       "      <td>39.880001</td>\n",
       "      <td>39.202709</td>\n",
       "      <td>4252900</td>\n",
       "      <td>0.000251</td>\n",
       "    </tr>\n",
       "    <tr>\n",
       "      <td>2019-01-14</td>\n",
       "      <td>40.529999</td>\n",
       "      <td>40.660000</td>\n",
       "      <td>40.090000</td>\n",
       "      <td>40.340000</td>\n",
       "      <td>39.654892</td>\n",
       "      <td>3581700</td>\n",
       "      <td>0.011534</td>\n",
       "    </tr>\n",
       "    <tr>\n",
       "      <td>2019-01-15</td>\n",
       "      <td>40.230000</td>\n",
       "      <td>40.230000</td>\n",
       "      <td>39.340000</td>\n",
       "      <td>39.459999</td>\n",
       "      <td>38.789833</td>\n",
       "      <td>5164800</td>\n",
       "      <td>-0.021815</td>\n",
       "    </tr>\n",
       "  </tbody>\n",
       "</table>\n",
       "</div>"
      ],
      "text/plain": [
       "                 Open       High        Low      Close  Adj Close    Volume  \\\n",
       "Date                                                                          \n",
       "2019-01-02  44.330002  44.349998  42.540001  42.880001  42.151756   7162500   \n",
       "2019-01-03  43.549999  45.150002  43.480000  44.990002  44.225925  10146600   \n",
       "2019-01-04  43.730000  43.880001  41.700001  41.939999  41.227718   8950700   \n",
       "2019-01-07  41.840000  42.180000  40.779999  41.330002  40.628078   5029400   \n",
       "2019-01-08  40.500000  41.419998  40.349998  40.549999  39.861328   5112500   \n",
       "2019-01-09  40.270000  40.720001  39.860001  40.169998  39.487774   5726600   \n",
       "2019-01-10  40.700001  40.930000  39.810001  39.869999  39.192879   8460700   \n",
       "2019-01-11  40.259998  40.470001  39.869999  39.880001  39.202709   4252900   \n",
       "2019-01-14  40.529999  40.660000  40.090000  40.340000  39.654892   3581700   \n",
       "2019-01-15  40.230000  40.230000  39.340000  39.459999  38.789833   5164800   \n",
       "\n",
       "             pct_chg  \n",
       "Date                  \n",
       "2019-01-02       NaN  \n",
       "2019-01-03  0.049207  \n",
       "2019-01-04 -0.067793  \n",
       "2019-01-07 -0.014545  \n",
       "2019-01-08 -0.018872  \n",
       "2019-01-09 -0.009371  \n",
       "2019-01-10 -0.007468  \n",
       "2019-01-11  0.000251  \n",
       "2019-01-14  0.011534  \n",
       "2019-01-15 -0.021815  "
      ]
     },
     "execution_count": 12,
     "metadata": {},
     "output_type": "execute_result"
    }
   ],
   "source": [
    "df_sds['pct_chg'] = df_sds['Adj Close'].pct_change()\n",
    "df_sds.head(10)"
   ]
  },
  {
   "cell_type": "code",
   "execution_count": 13,
   "metadata": {},
   "outputs": [
    {
     "data": {
      "text/html": [
       "<div>\n",
       "<style scoped>\n",
       "    .dataframe tbody tr th:only-of-type {\n",
       "        vertical-align: middle;\n",
       "    }\n",
       "\n",
       "    .dataframe tbody tr th {\n",
       "        vertical-align: top;\n",
       "    }\n",
       "\n",
       "    .dataframe thead th {\n",
       "        text-align: right;\n",
       "    }\n",
       "</style>\n",
       "<table border=\"1\" class=\"dataframe\">\n",
       "  <thead>\n",
       "    <tr style=\"text-align: right;\">\n",
       "      <th></th>\n",
       "      <th>sp500_pct_chg</th>\n",
       "      <th>sds_pct_chg</th>\n",
       "    </tr>\n",
       "    <tr>\n",
       "      <th>Date</th>\n",
       "      <th></th>\n",
       "      <th></th>\n",
       "    </tr>\n",
       "  </thead>\n",
       "  <tbody>\n",
       "    <tr>\n",
       "      <td>2019-01-02</td>\n",
       "      <td>NaN</td>\n",
       "      <td>NaN</td>\n",
       "    </tr>\n",
       "    <tr>\n",
       "      <td>2019-01-03</td>\n",
       "      <td>-0.024757</td>\n",
       "      <td>0.049207</td>\n",
       "    </tr>\n",
       "    <tr>\n",
       "      <td>2019-01-04</td>\n",
       "      <td>0.034336</td>\n",
       "      <td>-0.067793</td>\n",
       "    </tr>\n",
       "    <tr>\n",
       "      <td>2019-01-07</td>\n",
       "      <td>0.007010</td>\n",
       "      <td>-0.014545</td>\n",
       "    </tr>\n",
       "    <tr>\n",
       "      <td>2019-01-08</td>\n",
       "      <td>0.009695</td>\n",
       "      <td>-0.018872</td>\n",
       "    </tr>\n",
       "    <tr>\n",
       "      <td>...</td>\n",
       "      <td>...</td>\n",
       "      <td>...</td>\n",
       "    </tr>\n",
       "    <tr>\n",
       "      <td>2019-12-23</td>\n",
       "      <td>0.000866</td>\n",
       "      <td>-0.002391</td>\n",
       "    </tr>\n",
       "    <tr>\n",
       "      <td>2019-12-24</td>\n",
       "      <td>-0.000195</td>\n",
       "      <td>0.000561</td>\n",
       "    </tr>\n",
       "    <tr>\n",
       "      <td>2019-12-26</td>\n",
       "      <td>0.005128</td>\n",
       "      <td>-0.010020</td>\n",
       "    </tr>\n",
       "    <tr>\n",
       "      <td>2019-12-27</td>\n",
       "      <td>0.000034</td>\n",
       "      <td>0.000000</td>\n",
       "    </tr>\n",
       "    <tr>\n",
       "      <td>2019-12-30</td>\n",
       "      <td>-0.005781</td>\n",
       "      <td>0.011336</td>\n",
       "    </tr>\n",
       "  </tbody>\n",
       "</table>\n",
       "<p>251 rows × 2 columns</p>\n",
       "</div>"
      ],
      "text/plain": [
       "            sp500_pct_chg  sds_pct_chg\n",
       "Date                                  \n",
       "2019-01-02            NaN          NaN\n",
       "2019-01-03      -0.024757     0.049207\n",
       "2019-01-04       0.034336    -0.067793\n",
       "2019-01-07       0.007010    -0.014545\n",
       "2019-01-08       0.009695    -0.018872\n",
       "...                   ...          ...\n",
       "2019-12-23       0.000866    -0.002391\n",
       "2019-12-24      -0.000195     0.000561\n",
       "2019-12-26       0.005128    -0.010020\n",
       "2019-12-27       0.000034     0.000000\n",
       "2019-12-30      -0.005781     0.011336\n",
       "\n",
       "[251 rows x 2 columns]"
      ]
     },
     "execution_count": 13,
     "metadata": {},
     "output_type": "execute_result"
    }
   ],
   "source": [
    "df1 = pd.DataFrame()\n",
    "df1['sp500_pct_chg'] = df_sp500['pct_chg']\n",
    "df1['sds_pct_chg'] = df_sds['pct_chg']\n",
    "df1"
   ]
  },
  {
   "cell_type": "code",
   "execution_count": 14,
   "metadata": {},
   "outputs": [
    {
     "data": {
      "text/plain": [
       "Text(0, 0.5, 'Percent Change')"
      ]
     },
     "execution_count": 14,
     "metadata": {},
     "output_type": "execute_result"
    },
    {
     "data": {
      "image/png": "[encoded data removed]",
      "text/plain": [
       "<Figure size 1008x720 with 1 Axes>"
      ]
     },
     "metadata": {
      "needs_background": "light"
     },
     "output_type": "display_data"
    }
   ],
   "source": [
    "df1.plot(figsize = (14,10), grid = True)\n",
    "plt.title('Day to Day Percent Change of SP500 & SDS')\n",
    "plt.ylabel('Percent Change')"
   ]
  },
  {
   "cell_type": "code",
   "execution_count": 15,
   "metadata": {
    "scrolled": true
   },
   "outputs": [
    {
     "data": {
      "text/plain": [
       "-0.9989038061605486"
      ]
     },
     "execution_count": 15,
     "metadata": {},
     "output_type": "execute_result"
    }
   ],
   "source": [
    "#correlation\n",
    "df1['sp500_pct_chg'].corr(df1['sds_pct_chg'])"
   ]
  },
  {
   "cell_type": "markdown",
   "metadata": {},
   "source": [
    "### Regression"
   ]
  },
  {
   "cell_type": "code",
   "execution_count": 16,
   "metadata": {},
   "outputs": [],
   "source": [
    "from sklearn import linear_model"
   ]
  },
  {
   "cell_type": "code",
   "execution_count": 17,
   "metadata": {},
   "outputs": [],
   "source": [
    "lin_reg = linear_model.LinearRegression()"
   ]
  },
  {
   "cell_type": "code",
   "execution_count": 18,
   "metadata": {},
   "outputs": [
    {
     "data": {
      "text/plain": [
       "Date\n",
       "2019-01-03   -0.024757\n",
       "2019-01-04    0.034336\n",
       "2019-01-07    0.007010\n",
       "2019-01-08    0.009695\n",
       "2019-01-09    0.004098\n",
       "                ...   \n",
       "2019-11-15    0.007695\n",
       "2019-11-18    0.000503\n",
       "2019-11-19   -0.000593\n",
       "2019-11-20   -0.003756\n",
       "2019-11-21   -0.001583\n",
       "Name: pct_chg, Length: 225, dtype: float64"
      ]
     },
     "execution_count": 18,
     "metadata": {},
     "output_type": "execute_result"
    }
   ],
   "source": [
    "#training data\n",
    "df_sp500['pct_chg'][1:-25]"
   ]
  },
  {
   "cell_type": "code",
   "execution_count": 19,
   "metadata": {},
   "outputs": [
    {
     "data": {
      "text/plain": [
       "Date\n",
       "2019-11-22    0.002175\n",
       "2019-11-25    0.007507\n",
       "2019-11-26    0.002196\n",
       "2019-11-27    0.004174\n",
       "2019-11-29   -0.004011\n",
       "2019-12-02   -0.008631\n",
       "2019-12-03   -0.006638\n",
       "2019-12-04    0.006324\n",
       "2019-12-05    0.001500\n",
       "2019-12-06    0.009136\n",
       "2019-12-09   -0.003163\n",
       "2019-12-10   -0.001097\n",
       "2019-12-11    0.002908\n",
       "2019-12-12    0.008575\n",
       "2019-12-13    0.000073\n",
       "2019-12-16    0.007148\n",
       "2019-12-17    0.000335\n",
       "2019-12-18   -0.000432\n",
       "2019-12-19    0.004459\n",
       "2019-12-20    0.004945\n",
       "2019-12-23    0.000866\n",
       "2019-12-24   -0.000195\n",
       "2019-12-26    0.005128\n",
       "2019-12-27    0.000034\n",
       "2019-12-30   -0.005781\n",
       "Name: pct_chg, dtype: float64"
      ]
     },
     "execution_count": 19,
     "metadata": {},
     "output_type": "execute_result"
    }
   ],
   "source": [
    "#testing data\n",
    "df_sp500['pct_chg'][-25:]"
   ]
  },
  {
   "cell_type": "code",
   "execution_count": 20,
   "metadata": {},
   "outputs": [],
   "source": [
    "#need to convert to array\n",
    "x_train = df_sp500.pct_chg[1:-25].values.reshape(-1,1)\n",
    "y_train = df_sds.pct_chg[1:-25].values.reshape(-1,1)\n",
    "x_test = df_sp500.pct_chg[-25:].values.reshape(-1,1)\n",
    "y_actual = df_sds.pct_chg[-25:].values.reshape(-1,1)"
   ]
  },
  {
   "cell_type": "code",
   "execution_count": 21,
   "metadata": {},
   "outputs": [
    {
     "data": {
      "text/plain": [
       "array([[-2.47567301e-02],\n",
       "       [ 3.43357143e-02],\n",
       "       [ 7.01043485e-03],\n",
       "       [ 9.69528514e-03],\n",
       "       [ 4.09804552e-03],\n",
       "       [ 4.51841892e-03],\n",
       "       [-1.46297914e-04],\n",
       "       [-5.25752542e-03],\n",
       "       [ 1.07216889e-02],\n",
       "       [ 2.22198555e-03],\n",
       "       [ 7.59140027e-03],\n",
       "       [ 1.31830530e-02],\n",
       "       [-1.41573063e-02],\n",
       "       [ 2.20291284e-03],\n",
       "       [ 1.37572557e-03],\n",
       "       [ 8.48869420e-03],\n",
       "       [-7.84682745e-03],\n",
       "       [-1.45624671e-03],\n",
       "       [ 1.55492610e-02],\n",
       "       [ 8.59739601e-03],\n",
       "       [ 8.98609856e-04],\n",
       "       [ 6.77623666e-03],\n",
       "       [ 4.70842038e-03],\n",
       "       [-2.22443807e-03],\n",
       "       [-9.35713993e-03],\n",
       "       [ 6.76201093e-04],\n",
       "       [ 7.09103093e-04],\n",
       "       [ 1.28902245e-02],\n",
       "       [ 3.02399473e-03],\n",
       "       [-2.65164162e-03],\n",
       "       [ 1.08787529e-02],\n",
       "       [ 1.49874328e-03],\n",
       "       [ 1.77711061e-03],\n",
       "       [-3.52643666e-03],\n",
       "       [ 6.41110237e-03],\n",
       "       [ 1.23186237e-03],\n",
       "       [-7.90457069e-04],\n",
       "       [-5.44049198e-04],\n",
       "       [-2.82550847e-03],\n",
       "       [ 6.89532053e-03],\n",
       "       [-3.88055820e-03],\n",
       "       [-1.13153309e-03],\n",
       "       [-6.52409859e-03],\n",
       "       [-8.12571737e-03],\n",
       "       [-2.13168911e-03],\n",
       "       [ 1.46660421e-02],\n",
       "       [ 2.95331831e-03],\n",
       "       [ 6.94958369e-03],\n",
       "       [-8.68022593e-04],\n",
       "       [ 4.98490290e-03],\n",
       "       [ 3.70594692e-03],\n",
       "       [-1.30561539e-04],\n",
       "       [-2.94435364e-03],\n",
       "       [ 1.08524813e-02],\n",
       "       [-1.89745013e-02],\n",
       "       [-8.39020831e-04],\n",
       "       [ 7.18272604e-03],\n",
       "       [-4.64432498e-03],\n",
       "       [ 3.58948145e-03],\n",
       "       [ 6.73428004e-03],\n",
       "       [ 1.15686001e-02],\n",
       "       [ 1.74557672e-05],\n",
       "       [ 2.14837684e-03],\n",
       "       [ 2.08463535e-03],\n",
       "       [ 4.63643254e-03],\n",
       "       [ 1.04746020e-03],\n",
       "       [-6.06749461e-03],\n",
       "       [ 3.47787165e-03],\n",
       "       [ 3.81229209e-05],\n",
       "       [ 6.60932430e-03],\n",
       "       [-6.29369114e-04],\n",
       "       [ 5.09358187e-04],\n",
       "       [-2.27381198e-03],\n",
       "       [ 1.57909224e-03],\n",
       "       [ 1.01201777e-03],\n",
       "       [ 8.84120581e-03],\n",
       "       [-2.19176330e-03],\n",
       "       [-3.68973610e-04],\n",
       "       [ 4.68529216e-03],\n",
       "       [ 1.07152201e-03],\n",
       "       [ 9.51417068e-04],\n",
       "       [-7.50216320e-03],\n",
       "       [-2.12398547e-03],\n",
       "       [ 9.63827936e-03],\n",
       "       [-4.47098847e-03],\n",
       "       [-1.65116514e-02],\n",
       "       [-1.60542533e-03],\n",
       "       [-3.02142488e-03],\n",
       "       [ 3.72029704e-03],\n",
       "       [-2.41305571e-02],\n",
       "       [ 8.01594457e-03],\n",
       "       [ 5.83897514e-03],\n",
       "       [ 8.89528697e-03],\n",
       "       [-5.83733333e-03],\n",
       "       [-6.74937798e-03],\n",
       "       [ 8.49583561e-03],\n",
       "       [-2.82439592e-03],\n",
       "       [-1.19141502e-02],\n",
       "       [ 1.35355923e-03],\n",
       "       [-8.37567692e-03],\n",
       "       [-6.91191224e-03],\n",
       "       [ 2.09847107e-03],\n",
       "       [-1.31953725e-02],\n",
       "       [-2.76524052e-03],\n",
       "       [ 2.14323708e-02],\n",
       "       [ 8.16185449e-03],\n",
       "       [ 6.13558679e-03],\n",
       "       [ 1.04976976e-02],\n",
       "       [ 4.66004427e-03],\n",
       "       [-3.49879970e-04],\n",
       "       [-2.03757920e-03],\n",
       "       [ 4.09738202e-03],\n",
       "       [-1.61151221e-03],\n",
       "       [ 9.31749447e-04],\n",
       "       [ 9.71739983e-03],\n",
       "       [ 2.98516357e-03],\n",
       "       [ 9.47218529e-03],\n",
       "       [-1.25922289e-03],\n",
       "       [-1.73188692e-03],\n",
       "       [-9.49639740e-03],\n",
       "       [-1.23393392e-03],\n",
       "       [ 3.82317570e-03],\n",
       "       [ 5.75745267e-03],\n",
       "       [ 7.67230091e-03],\n",
       "       [ 2.92812601e-03],\n",
       "       [ 7.67237847e-03],\n",
       "       [-1.80590152e-03],\n",
       "       [-4.83544445e-03],\n",
       "       [ 1.23655709e-03],\n",
       "       [ 4.51068942e-03],\n",
       "       [ 2.28522682e-03],\n",
       "       [ 4.62017474e-03],\n",
       "       [ 1.75869093e-04],\n",
       "       [-3.40377860e-03],\n",
       "       [-6.53124351e-03],\n",
       "       [ 3.58199760e-03],\n",
       "       [-6.17673452e-03],\n",
       "       [ 2.82869496e-03],\n",
       "       [ 6.84748287e-03],\n",
       "       [ 4.68814799e-03],\n",
       "       [-5.26240137e-03],\n",
       "       [ 7.38769092e-03],\n",
       "       [-1.61611437e-03],\n",
       "       [-2.57865489e-03],\n",
       "       [-1.08855262e-02],\n",
       "       [-8.99879380e-03],\n",
       "       [-7.28274001e-03],\n",
       "       [-2.97778201e-02],\n",
       "       [ 1.30170174e-02],\n",
       "       [ 7.66875908e-04],\n",
       "       [ 1.87623036e-02],\n",
       "       [-6.61660651e-03],\n",
       "       [-1.23173221e-02],\n",
       "       [ 1.51316883e-02],\n",
       "       [-2.92927527e-02],\n",
       "       [ 2.46426803e-03],\n",
       "       [ 1.44261247e-02],\n",
       "       [ 1.21058652e-02],\n",
       "       [-7.91472740e-03],\n",
       "       [ 8.24679864e-03],\n",
       "       [-5.06075042e-04],\n",
       "       [-2.59463368e-02],\n",
       "       [ 1.09829880e-02],\n",
       "       [-3.20318074e-03],\n",
       "       [ 6.54548006e-03],\n",
       "       [ 1.26872919e-02],\n",
       "       [ 6.42787323e-04],\n",
       "       [-6.89910037e-03],\n",
       "       [ 1.08420789e-02],\n",
       "       [ 1.30098137e-02],\n",
       "       [ 9.10605175e-04],\n",
       "       [-9.40101600e-05],\n",
       "       [ 3.22304376e-04],\n",
       "       [ 7.22968117e-03],\n",
       "       [ 2.87915286e-03],\n",
       "       [-7.24414103e-04],\n",
       "       [-3.13558678e-03],\n",
       "       [ 2.58175229e-03],\n",
       "       [ 3.42691891e-04],\n",
       "       [ 1.99748565e-05],\n",
       "       [-4.89557661e-03],\n",
       "       [-9.69358984e-05],\n",
       "       [-8.41637111e-03],\n",
       "       [ 6.15857156e-03],\n",
       "       [-2.42891641e-03],\n",
       "       [-5.31635245e-03],\n",
       "       [ 5.04760662e-03],\n",
       "       [-1.22583733e-02],\n",
       "       [-1.79032031e-02],\n",
       "       [ 7.97191281e-03],\n",
       "       [ 1.42168976e-02],\n",
       "       [-4.47829477e-03],\n",
       "       [-1.55608190e-02],\n",
       "       [ 9.10449229e-03],\n",
       "       [ 6.41569556e-03],\n",
       "       [ 1.09389776e-02],\n",
       "       [-1.38711901e-03],\n",
       "       [ 9.95567688e-03],\n",
       "       [-1.99954305e-03],\n",
       "       [ 2.76283165e-03],\n",
       "       [-3.91934495e-03],\n",
       "       [ 6.87161621e-03],\n",
       "       [-3.56866655e-03],\n",
       "       [ 2.84714903e-03],\n",
       "       [ 1.92044618e-03],\n",
       "       [ 4.07270058e-03],\n",
       "       [ 5.58133785e-03],\n",
       "       [-8.32405217e-04],\n",
       "       [ 3.25337017e-03],\n",
       "       [-3.02286058e-03],\n",
       "       [ 9.66231200e-03],\n",
       "       [ 3.70408924e-03],\n",
       "       [-1.18569943e-03],\n",
       "       [ 7.02497192e-04],\n",
       "       [ 2.73009540e-03],\n",
       "       [ 2.56067593e-03],\n",
       "       [-1.96246714e-03],\n",
       "       [ 1.56464604e-03],\n",
       "       [ 7.11534535e-04],\n",
       "       [ 8.37042820e-04],\n",
       "       [ 7.69548797e-03],\n",
       "       [ 5.03152747e-04],\n",
       "       [-5.92594236e-04],\n",
       "       [-3.75618434e-03],\n",
       "       [-1.58275225e-03]])"
      ]
     },
     "execution_count": 21,
     "metadata": {},
     "output_type": "execute_result"
    }
   ],
   "source": [
    "x_train"
   ]
  },
  {
   "cell_type": "code",
   "execution_count": 22,
   "metadata": {},
   "outputs": [
    {
     "data": {
      "text/plain": [
       "LinearRegression(copy_X=True, fit_intercept=True, n_jobs=None, normalize=False)"
      ]
     },
     "execution_count": 22,
     "metadata": {},
     "output_type": "execute_result"
    }
   ],
   "source": [
    "lin_reg.fit(x_train, y_train)"
   ]
  },
  {
   "cell_type": "code",
   "execution_count": 23,
   "metadata": {},
   "outputs": [
    {
     "name": "stdout",
     "output_type": "stream",
     "text": [
      "Intercept: 0.000090852\n"
     ]
    }
   ],
   "source": [
    "print(\"Intercept:\", format(lin_reg.intercept_[0], '.9f'))"
   ]
  },
  {
   "cell_type": "code",
   "execution_count": 35,
   "metadata": {
    "scrolled": true
   },
   "outputs": [
    {
     "name": "stdout",
     "output_type": "stream",
     "text": [
      "Slope: -1.999296498\n"
     ]
    }
   ],
   "source": [
    "print(\"Slope:\", format(lin_reg.coef_[0][0], '.9f'))"
   ]
  },
  {
   "cell_type": "code",
   "execution_count": 34,
   "metadata": {},
   "outputs": [
    {
     "name": "stdout",
     "output_type": "stream",
     "text": [
      "Formula: f(x) =  -1.999296498x + 0.000090852\n"
     ]
    }
   ],
   "source": [
    "print(\"Formula: f(x) = \", format(lin_reg.coef_[0][0], '.9f') + \"x + \" + format(lin_reg.intercept_[0], '.9f'))"
   ]
  },
  {
   "cell_type": "markdown",
   "metadata": {},
   "source": [
    "### Prediction"
   ]
  },
  {
   "cell_type": "code",
   "execution_count": 26,
   "metadata": {
    "scrolled": true
   },
   "outputs": [
    {
     "data": {
      "text/plain": [
       "array([[-4.25748899e-03],\n",
       "       [-1.49184493e-02],\n",
       "       [-4.29874390e-03],\n",
       "       [-8.25505951e-03],\n",
       "       [ 8.11047026e-03],\n",
       "       [ 1.73468216e-02],\n",
       "       [ 1.33623726e-02],\n",
       "       [-1.25518342e-02],\n",
       "       [-2.90859469e-03],\n",
       "       [-1.81741690e-02],\n",
       "       [ 6.41426995e-03],\n",
       "       [ 2.28394856e-03],\n",
       "       [-5.72341768e-03],\n",
       "       [-1.70535662e-02],\n",
       "       [-5.42605209e-05],\n",
       "       [-1.41996895e-02],\n",
       "       [-5.79496654e-04],\n",
       "       [ 9.55148570e-04],\n",
       "       [-8.82459419e-03],\n",
       "       [-9.79523148e-03],\n",
       "       [-1.64082551e-03],\n",
       "       [ 4.81611252e-04],\n",
       "       [-1.01618732e-02],\n",
       "       [ 2.29064385e-05],\n",
       "       [ 1.16484307e-02]])"
      ]
     },
     "execution_count": 26,
     "metadata": {},
     "output_type": "execute_result"
    }
   ],
   "source": [
    "y_predict = lin_reg.predict(x_test)\n",
    "y_predict"
   ]
  },
  {
   "cell_type": "code",
   "execution_count": 27,
   "metadata": {},
   "outputs": [
    {
     "data": {
      "text/plain": [
       "array([[-0.00406801],\n",
       "       [-0.01448196],\n",
       "       [-0.00452155],\n",
       "       [-0.00870553],\n",
       "       [ 0.00763648],\n",
       "       [ 0.01705196],\n",
       "       [ 0.01415795],\n",
       "       [-0.01322556],\n",
       "       [-0.00297839],\n",
       "       [-0.01792392],\n",
       "       [ 0.00570351],\n",
       "       [ 0.00302452],\n",
       "       [-0.00565395],\n",
       "       [-0.01667932],\n",
       "       [-0.00192757],\n",
       "       [-0.01390493],\n",
       "       [ 0.        ],\n",
       "       [ 0.        ],\n",
       "       [-0.0078339 ],\n",
       "       [-0.00947488],\n",
       "       [-0.00239139],\n",
       "       [ 0.00056143],\n",
       "       [-0.01002005],\n",
       "       [ 0.        ],\n",
       "       [ 0.01133596]])"
      ]
     },
     "execution_count": 27,
     "metadata": {},
     "output_type": "execute_result"
    }
   ],
   "source": [
    "y_actual"
   ]
  },
  {
   "cell_type": "code",
   "execution_count": 28,
   "metadata": {},
   "outputs": [],
   "source": [
    "from sklearn.metrics import mean_squared_error"
   ]
  },
  {
   "cell_type": "code",
   "execution_count": 29,
   "metadata": {},
   "outputs": [
    {
     "data": {
      "text/plain": [
       "3.9039291102552594e-07"
      ]
     },
     "execution_count": 29,
     "metadata": {},
     "output_type": "execute_result"
    }
   ],
   "source": [
    "mean_squared_error(y_actual,y_predict)"
   ]
  },
  {
   "cell_type": "code",
   "execution_count": 30,
   "metadata": {},
   "outputs": [
    {
     "data": {
      "text/plain": [
       "0.0006248143012331952"
      ]
     },
     "execution_count": 30,
     "metadata": {},
     "output_type": "execute_result"
    }
   ],
   "source": [
    "np.sqrt(mean_squared_error(y_actual,y_predict))"
   ]
  },
  {
   "cell_type": "code",
   "execution_count": 31,
   "metadata": {},
   "outputs": [],
   "source": [
    "from sklearn.metrics import r2_score"
   ]
  },
  {
   "cell_type": "code",
   "execution_count": 32,
   "metadata": {},
   "outputs": [
    {
     "data": {
      "text/plain": [
       "0.9953327952649288"
      ]
     },
     "execution_count": 32,
     "metadata": {},
     "output_type": "execute_result"
    }
   ],
   "source": [
    "r2_score(y_actual,y_predict)"
   ]
  },
  {
   "cell_type": "code",
   "execution_count": 33,
   "metadata": {
    "scrolled": false
   },
   "outputs": [
    {
     "data": {
      "text/plain": [
       "Text(0, 0.5, 'SDS Percent Change')"
      ]
     },
     "execution_count": 33,
     "metadata": {},
     "output_type": "execute_result"
    },
    {
     "data": {
      "image/png": "[encoded data removed]",
      "text/plain": [
       "<Figure size 864x576 with 1 Axes>"
      ]
     },
     "metadata": {
      "needs_background": "light"
     },
     "output_type": "display_data"
    }
   ],
   "source": [
    "plt.figure(figsize = (12, 8))\n",
    "plt.scatter(x = df_sp500['pct_chg'], y = df_sds['pct_chg'])\n",
    "plt.title('Percent Change Relationship Between SP500 & SDS')\n",
    "plt.xlabel('SP500 Percent Change')\n",
    "plt.ylabel('SDS Percent Change')"
   ]
  },
  {
   "cell_type": "markdown",
   "metadata": {},
   "source": [
    "The graph clearly shows the strong negative relationship between the percent change of SP500 and SDS."
   ]
  }
 ],
 "metadata": {
  "kernelspec": {
   "display_name": "Python 3",
   "language": "python",
   "name": "python3"
  },
  "language_info": {
   "codemirror_mode": {
    "name": "ipython",
    "version": 3
   },
   "file_extension": ".py",
   "mimetype": "text/x-python",
   "name": "python",
   "nbconvert_exporter": "python",
   "pygments_lexer": "ipython3",
   "version": "3.7.4"
  }
 },
 "nbformat": 4,
 "nbformat_minor": 2
}
